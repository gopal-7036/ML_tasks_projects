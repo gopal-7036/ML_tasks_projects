{
  "nbformat": 4,
  "nbformat_minor": 0,
  "metadata": {
    "colab": {
      "provenance": []
    },
    "kernelspec": {
      "name": "python3",
      "display_name": "Python 3"
    },
    "language_info": {
      "name": "python"
    }
  },
  "cells": [
    {
      "cell_type": "code",
      "execution_count": 1,
      "metadata": {
        "id": "atk5mPwBOVrt"
      },
      "outputs": [],
      "source": [
        "#imports\n",
        "\n",
        "import pandas as pd\n",
        "\n",
        "import numpy as np\n",
        "from matplotlib import pyplot as plt"
      ]
    },
    {
      "cell_type": "code",
      "source": [
        "X = np.asarray([20,5,10,13,12])\n",
        "y = np.asarray([44,22,25,32,27])\n",
        "# Create pandas dataframe to store our X and y values\n",
        "df = pd.DataFrame(\n",
        "{'X': X,\n",
        "'y': y}\n",
        ")\n"
      ],
      "metadata": {
        "id": "3e2bnxHcCQ1T"
      },
      "execution_count": 2,
      "outputs": []
    },
    {
      "cell_type": "code",
      "source": [
        "rows = df.shape[0]\n",
        "cols = df.shape[1]\n",
        "# Show the first five rows of our dataframe\n",
        "print(df.head())\n",
        "\n",
        "print(\"Total Rows: \" + str(rows))\n",
        "print(\"Total Columns: \" + str(cols))\n"
      ],
      "metadata": {
        "colab": {
          "base_uri": "https://localhost:8080/"
        },
        "id": "rZg490LVCiGc",
        "outputId": "7ab1a8d7-1daf-4545-ecd7-589dd1b83361"
      },
      "execution_count": 5,
      "outputs": [
        {
          "output_type": "stream",
          "name": "stdout",
          "text": [
            "    X   y\n",
            "0  20  44\n",
            "1   5  22\n",
            "2  10  25\n",
            "3  13  32\n",
            "4  12  27\n",
            "Total Rows: 5\n",
            "Total Columns: 2\n"
          ]
        }
      ]
    },
    {
      "cell_type": "code",
      "source": [
        "# Calculate the mean of X and y\n",
        "xmean = np.mean(X)\n",
        "ymean = np.mean(y)\n",
        "\n",
        "xymean=np.mean (X*y)\n",
        "x2s=X**2\n",
        "x2smean=np.mean(x2s)\n",
        "xmean2s=xmean**2\n",
        "\n",
        "beta=(xymean-xmean*ymean)/(x2smean-xmean2s)\n",
        "alpha=ymean- (beta*xmean)\n",
        "\n",
        "print(f'Intercept {alpha}')\n",
        "print(f'slope = {beta}')\n",
        "\n",
        "print(f\"The regression line eqn: y= {round(alpha,2)}x + {round(beta,2)}\")\n",
        "\n",
        "x=int(input(\"Give an input to find its output:\"))\n",
        "print(f\"The predicted output={round(alpha,2)*x + round(beta,2)}\")"
      ],
      "metadata": {
        "colab": {
          "base_uri": "https://localhost:8080/"
        },
        "id": "tDFONB1BCyne",
        "outputId": "c543dd41-7525-4180-c5b0-b9274a085bab"
      },
      "execution_count": 14,
      "outputs": [
        {
          "output_type": "stream",
          "name": "stdout",
          "text": [
            "Intercept 11.694915254237284\n",
            "slope = 1.5254237288135597\n",
            "The regression line eqn: y= 11.69x + 1.53\n",
            "Give an input to find its output:15\n",
            "The predicted output=176.88\n"
          ]
        }
      ]
    }
  ]
}